{
 "cells": [
  {
   "attachments": {},
   "cell_type": "markdown",
   "metadata": {},
   "source": [
    "# **UFC Fighters Dataset - Computer Tech Asessment #2**\n",
    "### Define the Problem - My Goal\n"
   ]
  },
  {
   "cell_type": "code",
   "execution_count": 6,
   "metadata": {},
   "outputs": [
    {
     "ename": "SyntaxError",
     "evalue": "(unicode error) 'unicodeescape' codec can't decode bytes in position 9-12: truncated \\UXXXXXXXX escape (2492430267.py, line 9)",
     "output_type": "error",
     "traceback": [
      "\u001b[1;36m  Cell \u001b[1;32mIn[6], line 9\u001b[1;36m\u001b[0m\n\u001b[1;33m    original_df = pd.read_csv('Documents\\UFC-Fighters-Dataset.csv'),\u001b[0m\n\u001b[1;37m                                                                  ^\u001b[0m\n\u001b[1;31mSyntaxError\u001b[0m\u001b[1;31m:\u001b[0m (unicode error) 'unicodeescape' codec can't decode bytes in position 9-12: truncated \\UXXXXXXXX escape\n"
     ]
    }
   ],
   "source": [
    "#----Modules----#\n",
    "import pandas as pd\n",
    "import matplotlib.pyplot as plt\n",
    "\n",
    "#----Global Variables----#\n",
    "quit = False\n",
    "\n",
    "#----Setup dataframe and query it here prior to creating visualisation and UI functions----#\n",
    "original_df = pd.read_csv('Documents\\UFC-Fighters-Dataset.csv')\n",
    "\n",
    "\n",
    "ufcstats_df = pd.read_csv('Documents\\UFC-Fighters-Dataset.csv',\n",
    "                            header=None,\n",
    "                            names=['Height (cm)','Weight Class','reach (cm)','Winrate'])\n",
    "\n",
    "#----Define Functions Below----#\n",
    "def showOriginalData():\n",
    "    print(original_df)\n",
    "\n",
    "def showUpdatedData():\n",
    "    print(ufcstats_df)\n",
    "\n",
    "def WeightWinrates():\n",
    "    ufcstats_df.plot(\n",
    "                    kind='bar',\n",
    "                    x='Weight Class',\n",
    "                    y='Winrate',\n",
    "                    color='red',\n",
    "                    alpha=0.3,\n",
    "                    title='Weight winrates')\n",
    "    plt.show()\n",
    "\n",
    "def userOptions():\n",
    "    global quit\n",
    "\n",
    "    print(\"\"\"Welcome to the Goofy UFC dataset. What attributes do you want to take a look at?\n",
    "          \n",
    "    Please select an option:\n",
    "    1 - Show the original dataset\n",
    "    2 - Show the updated Data Frame\n",
    "    3 - Visualise the average winrate of each weight class\n",
    "    4 - Quit Program\n",
    "        \"\"\")\n",
    "    \n",
    "    try:\n",
    "        choice = int(input('Enter Selection: '))\n",
    "\n",
    "        if choice == 1:\n",
    "            showOriginalData()\n",
    "        elif choice == 2:\n",
    "            showUpdatedData()\n",
    "        elif choice == 3:\n",
    "            WeightWinrates()\n",
    "        elif choice == 4:\n",
    "            quit = True\n",
    "        else:\n",
    "            print('Pick a number, ya gronk.')\n",
    "\n",
    "    except:\n",
    "        print('Because you didnt enter a number from the options, Heres an essay about orangutans: Orangutans: Guardians of the Rainforest Orangutans, also known as “persons of the forest,” are remarkable Asian great apes found in the lush rainforests of Southeast Asia. Lets delve into their fascinating world and explore their unique characteristics, habitat, and conservation challenges.1. Species and Habitat Bornean Orangutan (Pongo pygmaeus) Inhabits large portions of Borneo. Known for their distinctive cheek pads in older males. Typically twice the size of females, with a height of up to 1.3 meters (4.3 feet) and a weight of 130 kg (285 pounds).Coarse red hair covers their dark tan or brownish skin.Sumatran Orangutan (Pongo abelii)Limited to northern Sumatra. Shares cognitive abilities with gorillas and chimpanzees.Largest arboreal animals, spending over 90% of their waking hours in trees.Ripe-fruit eaters but consume a variety of foods, including invertebrates and occasional meat. Tapanuli Orangutan (Pongo tapanuliensis)Also found in northern Sumatra.Recently discovered and critically endangered.Distinctive features include a unique call and genetic differences.2. Threats and Conservation Habitat DestructionDeforestation due to logging, agriculture, and palm oil plantations threatens their rainforest homes.As trees disappear, orangutans lose both shelter and food sources.Illegal Wildlife TradeOrangutans are hunted and captured for the exotic pet trade. Their young are often separated from their mothers, causing immense distress. Climate ChangeAltered weather patterns affect fruit availability, impacting their diet.Rising temperatures and changing ecosystems pose additional challenges.3. The Guardians of BiodiversitySeed Dispersers Orangutans play a crucial role in rainforest ecology.They disperse seeds as they move through the canopy, aiding plant growth.Conservation EffortsOrganizations like the Orangutan Foundation International work tirelessly to protect orangutans.Reforestation, anti-poaching efforts, and education are vital components of conservation. In conclusion, orangutans are not just charismatic creatures; they are essential guardians of the rainforest. By understanding their plight and supporting conservation initiatives, we can ensure their survival and preserve the rich biodiversity of our planet. Remember, our actions today impact their future. Lets stand together as stewards of the forest and protect these remarkable beings!')\n",
    "\n",
    "   \n",
    "\n",
    "#----Main program----#\n",
    "while not quit:\n",
    "    userOptions()"
   ]
  }
 ],
 "metadata": {
  "kernelspec": {
   "display_name": "Python 3",
   "language": "python",
   "name": "python3"
  },
  "language_info": {
   "codemirror_mode": {
    "name": "ipython",
    "version": 3
   },
   "file_extension": ".py",
   "mimetype": "text/x-python",
   "name": "python",
   "nbconvert_exporter": "python",
   "pygments_lexer": "ipython3",
   "version": "3.9.2"
  },
  "orig_nbformat": 4
 },
 "nbformat": 4,
 "nbformat_minor": 2
}
